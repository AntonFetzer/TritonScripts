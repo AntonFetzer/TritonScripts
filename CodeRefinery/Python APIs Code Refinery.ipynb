{
 "cells": [
  {
   "cell_type": "code",
   "execution_count": 1,
   "metadata": {},
   "outputs": [],
   "source": [
    "# Import\n",
    "import requests\n",
    "\n",
    "# URL\n",
    "url = 'https://catfact.ninja/fact'\n",
    "\n",
    "# Make a request\n",
    "response = requests.get(url)"
   ]
  },
  {
   "cell_type": "code",
   "execution_count": 2,
   "metadata": {},
   "outputs": [
    {
     "data": {
      "text/plain": [
       "<Response [200]>"
      ]
     },
     "metadata": {},
     "output_type": "display_data"
    }
   ],
   "source": [
    "display(response)"
   ]
  },
  {
   "cell_type": "code",
   "execution_count": 3,
   "metadata": {},
   "outputs": [
    {
     "data": {
      "text/plain": [
       "b'{\"fact\":\"In the 1930s, two Russian biologists discovered that color change in Siamese kittens depend on their body temperature. Siamese cats carry albino genes that work only when the body temperature is above 98\\\\u00b0 F. If these kittens are left in a very warm room, their points won\\\\u2019t darken and they will stay a creamy white.\",\"length\":315}'"
      ]
     },
     "metadata": {},
     "output_type": "display_data"
    }
   ],
   "source": [
    "display(response.content)"
   ]
  },
  {
   "cell_type": "code",
   "execution_count": 4,
   "metadata": {},
   "outputs": [
    {
     "data": {
      "text/plain": [
       "{'fact': 'In the 1930s, two Russian biologists discovered that color change in Siamese kittens depend on their body temperature. Siamese cats carry albino genes that work only when the body temperature is above 98° F. If these kittens are left in a very warm room, their points won’t darken and they will stay a creamy white.',\n",
       " 'length': 315}"
      ]
     },
     "metadata": {},
     "output_type": "display_data"
    }
   ],
   "source": [
    "response_json = response.json()\n",
    "\n",
    "# Display\n",
    "display(response_json)"
   ]
  },
  {
   "cell_type": "code",
   "execution_count": 7,
   "metadata": {},
   "outputs": [],
   "source": [
    "# URL\n",
    "url = 'http://universities.hipolabs.com/search?country=Finland'\n",
    "\n",
    "# Make a request\n",
    "response = requests.get(url)"
   ]
  },
  {
   "cell_type": "code",
   "execution_count": 9,
   "metadata": {},
   "outputs": [
    {
     "data": {
      "text/plain": [
       "[{'country': 'Finland',\n",
       "  'domains': ['abo.fi'],\n",
       "  'web_pages': ['http://www.abo.fi/'],\n",
       "  'alpha_two_code': 'FI',\n",
       "  'name': 'Abo Akademi University',\n",
       "  'state-province': None},\n",
       " {'country': 'Finland',\n",
       "  'domains': ['cou.fi'],\n",
       "  'web_pages': ['http://www.cou.fi/'],\n",
       "  'alpha_two_code': 'FI',\n",
       "  'name': 'Central Ostrobothnia University of Applied Sciences',\n",
       "  'state-province': None},\n",
       " {'country': 'Finland',\n",
       "  'domains': ['diak.fi'],\n",
       "  'web_pages': ['http://www.diak.fi/'],\n",
       "  'alpha_two_code': 'FI',\n",
       "  'name': 'Diaconia University of Applied Sciences',\n",
       "  'state-province': None},\n",
       " {'country': 'Finland',\n",
       "  'domains': ['evtek.fi'],\n",
       "  'web_pages': ['http://www.evtek.fi/'],\n",
       "  'alpha_two_code': 'FI',\n",
       "  'name': 'EVTEK University of Applied Sciences',\n",
       "  'state-province': None}]"
      ]
     },
     "metadata": {},
     "output_type": "display_data"
    }
   ],
   "source": [
    "# Decode JSON\n",
    "response_json = response.json()\n",
    "\n",
    "# Display\n",
    "display(response_json[:4])"
   ]
  },
  {
   "cell_type": "code",
   "execution_count": 10,
   "metadata": {},
   "outputs": [
    {
     "data": {
      "text/plain": [
       "[{'country': 'Finland',\n",
       "  'domains': ['abo.fi'],\n",
       "  'web_pages': ['http://www.abo.fi/'],\n",
       "  'alpha_two_code': 'FI',\n",
       "  'name': 'Abo Akademi University',\n",
       "  'state-province': None},\n",
       " {'country': 'Finland',\n",
       "  'domains': ['cou.fi'],\n",
       "  'web_pages': ['http://www.cou.fi/'],\n",
       "  'alpha_two_code': 'FI',\n",
       "  'name': 'Central Ostrobothnia University of Applied Sciences',\n",
       "  'state-province': None}]"
      ]
     },
     "metadata": {},
     "output_type": "display_data"
    }
   ],
   "source": [
    "# URL\n",
    "url = 'http://universities.hipolabs.com/search'\n",
    "\n",
    "# Make the parameter dictionary\n",
    "parameters = {'country' : 'Finland'}\n",
    "\n",
    "# Get response\n",
    "response = requests.get(url, params=parameters)\n",
    "\n",
    "# Decode JSON\n",
    "response_json = response.json()\n",
    "\n",
    "# Display\n",
    "display(response_json[:2])"
   ]
  },
  {
   "cell_type": "code",
   "execution_count": 11,
   "metadata": {},
   "outputs": [],
   "source": [
    "# URL\n",
    "url = 'http://www.boredapi.com/api/activity/'\n",
    "\n",
    "response = requests.get(url)"
   ]
  },
  {
   "cell_type": "code",
   "execution_count": 13,
   "metadata": {},
   "outputs": [
    {
     "data": {
      "text/plain": [
       "{'activity': 'Clean out your garage',\n",
       " 'type': 'busywork',\n",
       " 'participants': 1,\n",
       " 'price': 0,\n",
       " 'link': '',\n",
       " 'key': '7023703',\n",
       " 'accessibility': 0.1}"
      ]
     },
     "metadata": {},
     "output_type": "display_data"
    }
   ],
   "source": [
    "# Decode JSON\n",
    "response_json = response.json()\n",
    "\n",
    "# Display\n",
    "display(response_json)"
   ]
  },
  {
   "cell_type": "code",
   "execution_count": 18,
   "metadata": {},
   "outputs": [],
   "source": [
    "# Make the parameter dictionary\n",
    "parameters = {'type' : \"education\", 'participants' : 1, 'minprice' : 0, 'maxprice' : 1000,}\n",
    "\n",
    "# Get response\n",
    "response = requests.get(url, params=parameters)"
   ]
  },
  {
   "cell_type": "code",
   "execution_count": 19,
   "metadata": {},
   "outputs": [
    {
     "data": {
      "text/plain": [
       "{'activity': 'Learn calligraphy',\n",
       " 'type': 'education',\n",
       " 'participants': 1,\n",
       " 'price': 0.1,\n",
       " 'link': '',\n",
       " 'key': '4565537',\n",
       " 'accessibility': 0.1}"
      ]
     },
     "metadata": {},
     "output_type": "display_data"
    }
   ],
   "source": [
    "# Decode JSON\n",
    "response_json = response.json()\n",
    "\n",
    "# Display\n",
    "display(response_json)"
   ]
  },
  {
   "cell_type": "code",
   "execution_count": 20,
   "metadata": {},
   "outputs": [
    {
     "data": {
      "text/plain": [
       "'Request headers'"
      ]
     },
     "metadata": {},
     "output_type": "display_data"
    },
    {
     "data": {
      "text/plain": [
       "{'User-Agent': 'python-requests/2.28.1',\n",
       " 'Accept-Encoding': 'gzip, deflate, br',\n",
       " 'Accept': '*/*',\n",
       " 'Connection': 'keep-alive'}"
      ]
     },
     "metadata": {},
     "output_type": "display_data"
    }
   ],
   "source": [
    "display(\"Request headers\")\n",
    "display(dict(response.request.headers))"
   ]
  },
  {
   "cell_type": "code",
   "execution_count": 21,
   "metadata": {},
   "outputs": [
    {
     "data": {
      "text/plain": [
       "'Response headers'"
      ]
     },
     "metadata": {},
     "output_type": "display_data"
    },
    {
     "data": {
      "text/plain": [
       "{'Server': 'Cowboy',\n",
       " 'Connection': 'keep-alive',\n",
       " 'X-Powered-By': 'Express',\n",
       " 'Access-Control-Allow-Origin': '*',\n",
       " 'Access-Control-Allow-Headers': 'Origin, X-Requested-With, Content-Type, Accept',\n",
       " 'Content-Type': 'application/json; charset=utf-8',\n",
       " 'Content-Length': '126',\n",
       " 'Etag': 'W/\"7e-R+CUFwGWeKdyK3an7LznA+m17fY\"',\n",
       " 'Date': 'Thu, 24 Nov 2022 09:55:17 GMT',\n",
       " 'Via': '1.1 vegur'}"
      ]
     },
     "metadata": {},
     "output_type": "display_data"
    }
   ],
   "source": [
    "display(\"Response headers\")\n",
    "display(dict(response.headers))"
   ]
  },
  {
   "cell_type": "code",
   "execution_count": null,
   "metadata": {},
   "outputs": [],
   "source": []
  }
 ],
 "metadata": {
  "kernelspec": {
   "display_name": "Python (module anaconda)",
   "language": "python",
   "name": "python3"
  },
  "language_info": {
   "codemirror_mode": {
    "name": "ipython",
    "version": 3
   },
   "file_extension": ".py",
   "mimetype": "text/x-python",
   "name": "python",
   "nbconvert_exporter": "python",
   "pygments_lexer": "ipython3",
   "version": "3.9.13"
  }
 },
 "nbformat": 4,
 "nbformat_minor": 4
}
